{
 "cells": [
  {
   "cell_type": "code",
   "execution_count": 1,
   "metadata": {},
   "outputs": [],
   "source": [
    "# Import the dependencies.\n",
    "import pandas as pd\n",
    "import gmaps\n",
    "import requests\n",
    "import gmaps.datasets\n",
    "# Import the API key.\n",
    "from config import g_key"
   ]
  },
  {
   "cell_type": "code",
   "execution_count": 2,
   "metadata": {},
   "outputs": [
    {
     "data": {
      "text/html": [
       "<div>\n",
       "<style scoped>\n",
       "    .dataframe tbody tr th:only-of-type {\n",
       "        vertical-align: middle;\n",
       "    }\n",
       "\n",
       "    .dataframe tbody tr th {\n",
       "        vertical-align: top;\n",
       "    }\n",
       "\n",
       "    .dataframe thead th {\n",
       "        text-align: right;\n",
       "    }\n",
       "</style>\n",
       "<table border=\"1\" class=\"dataframe\">\n",
       "  <thead>\n",
       "    <tr style=\"text-align: right;\">\n",
       "      <th></th>\n",
       "      <th>hotel</th>\n",
       "      <th>City</th>\n",
       "      <th>Country</th>\n",
       "      <th>Max Temp</th>\n",
       "      <th>Current Description</th>\n",
       "      <th>Lat</th>\n",
       "      <th>Lng</th>\n",
       "      <th>Hotel Name</th>\n",
       "    </tr>\n",
       "  </thead>\n",
       "  <tbody>\n",
       "    <tr>\n",
       "      <th>0</th>\n",
       "      <td>4</td>\n",
       "      <td>Luwuk</td>\n",
       "      <td>ID</td>\n",
       "      <td>83.66</td>\n",
       "      <td>overcast clouds</td>\n",
       "      <td>-0.95</td>\n",
       "      <td>122.79</td>\n",
       "      <td>Hotel Santika Luwuk</td>\n",
       "    </tr>\n",
       "    <tr>\n",
       "      <th>1</th>\n",
       "      <td>20</td>\n",
       "      <td>Shieli</td>\n",
       "      <td>KZ</td>\n",
       "      <td>76.33</td>\n",
       "      <td>clear sky</td>\n",
       "      <td>44.17</td>\n",
       "      <td>66.75</td>\n",
       "      <td>Gostinitsa Aybek Shieli</td>\n",
       "    </tr>\n",
       "    <tr>\n",
       "      <th>2</th>\n",
       "      <td>21</td>\n",
       "      <td>Kahului</td>\n",
       "      <td>US</td>\n",
       "      <td>91.40</td>\n",
       "      <td>scattered clouds</td>\n",
       "      <td>20.89</td>\n",
       "      <td>-156.47</td>\n",
       "      <td>Maui Seaside Hotel</td>\n",
       "    </tr>\n",
       "    <tr>\n",
       "      <th>3</th>\n",
       "      <td>22</td>\n",
       "      <td>Hue</td>\n",
       "      <td>VN</td>\n",
       "      <td>84.20</td>\n",
       "      <td>scattered clouds</td>\n",
       "      <td>16.47</td>\n",
       "      <td>107.60</td>\n",
       "      <td>Saigon Morin Hotel</td>\n",
       "    </tr>\n",
       "    <tr>\n",
       "      <th>4</th>\n",
       "      <td>23</td>\n",
       "      <td>Port Blair</td>\n",
       "      <td>IN</td>\n",
       "      <td>82.47</td>\n",
       "      <td>broken clouds</td>\n",
       "      <td>11.67</td>\n",
       "      <td>92.75</td>\n",
       "      <td>Fortune Resort Bay Island</td>\n",
       "    </tr>\n",
       "  </tbody>\n",
       "</table>\n",
       "</div>"
      ],
      "text/plain": [
       "   hotel        City Country  Max Temp Current Description    Lat     Lng  \\\n",
       "0      4       Luwuk      ID     83.66     overcast clouds  -0.95  122.79   \n",
       "1     20      Shieli      KZ     76.33           clear sky  44.17   66.75   \n",
       "2     21     Kahului      US     91.40    scattered clouds  20.89 -156.47   \n",
       "3     22         Hue      VN     84.20    scattered clouds  16.47  107.60   \n",
       "4     23  Port Blair      IN     82.47       broken clouds  11.67   92.75   \n",
       "\n",
       "                  Hotel Name  \n",
       "0        Hotel Santika Luwuk  \n",
       "1    Gostinitsa Aybek Shieli  \n",
       "2         Maui Seaside Hotel  \n",
       "3         Saigon Morin Hotel  \n",
       "4  Fortune Resort Bay Island  "
      ]
     },
     "execution_count": 2,
     "metadata": {},
     "output_type": "execute_result"
    }
   ],
   "source": [
    "# Store the CSV you saved created in part one into a DataFrame.\n",
    "city_data_df = pd.read_csv(\"data/WeatherPy_vacation.csv\")\n",
    "city_data_df.head()"
   ]
  },
  {
   "cell_type": "code",
   "execution_count": 3,
   "metadata": {},
   "outputs": [],
   "source": [
    "# Configure gmaps to use your Google API key.\n",
    "gmaps.configure(api_key=g_key)\n"
   ]
  },
  {
   "cell_type": "code",
   "execution_count": 4,
   "metadata": {},
   "outputs": [],
   "source": [
    "#Create Dataframe for four cities\n",
    "Washington_df=city_data_df.loc[city_data_df[\"City\"]==\"Washington\"]\n",
    "Portland_df=city_data_df.loc[city_data_df[\"City\"]==\"Portland\"]\n",
    "Austin_df=city_data_df.loc[city_data_df[\"City\"]==\"Austin\"]\n",
    "Mayo_df=city_data_df.loc[city_data_df[\"City\"]==\"Mayo\"]\n",
    "\n",
    "\n",
    "\n"
   ]
  },
  {
   "cell_type": "code",
   "execution_count": 5,
   "metadata": {},
   "outputs": [],
   "source": [
    "#Get the lat and lng of the four cities\n",
    "Washington= list(Washington_df[[\"Lat\", \"Lng\"]].itertuples(index=False, name=None))\n",
    "Portland = list(Portland_df[[\"Lat\", \"Lng\"]].itertuples(index=False, name=None))\n",
    "Austin = list(Austin_df[[\"Lat\", \"Lng\"]].itertuples(index=False, name=None))\n",
    "Mayo = list(Mayo_df[[\"Lat\", \"Lng\"]].itertuples(index=False, name=None))"
   ]
  },
  {
   "cell_type": "code",
   "execution_count": 6,
   "metadata": {},
   "outputs": [
    {
     "data": {
      "application/vnd.jupyter.widget-view+json": {
       "model_id": "e98e620f1be54e77b3b39818cceec48d",
       "version_major": 2,
       "version_minor": 0
      },
      "text/plain": [
       "Figure(layout=FigureLayout(height='420px'))"
      ]
     },
     "metadata": {},
     "output_type": "display_data"
    }
   ],
   "source": [
    "# Iterate through the DataFrame.\n",
    "fig = gmaps.figure()\n",
    "Washington2Mayo = gmaps.directions_layer(Washington[0], Mayo[0], waypoints=[Portland[0], Austin[0]], travel_mode=\"DRIVING\")\n",
    "fig.add_layer(Washington2Mayo)\n",
    "fig"
   ]
  },
  {
   "cell_type": "code",
   "execution_count": 9,
   "metadata": {},
   "outputs": [
    {
     "data": {
      "text/html": [
       "<div>\n",
       "<style scoped>\n",
       "    .dataframe tbody tr th:only-of-type {\n",
       "        vertical-align: middle;\n",
       "    }\n",
       "\n",
       "    .dataframe tbody tr th {\n",
       "        vertical-align: top;\n",
       "    }\n",
       "\n",
       "    .dataframe thead th {\n",
       "        text-align: right;\n",
       "    }\n",
       "</style>\n",
       "<table border=\"1\" class=\"dataframe\">\n",
       "  <thead>\n",
       "    <tr style=\"text-align: right;\">\n",
       "      <th></th>\n",
       "      <th>hotel</th>\n",
       "      <th>City</th>\n",
       "      <th>Country</th>\n",
       "      <th>Max Temp</th>\n",
       "      <th>Current Description</th>\n",
       "      <th>Lat</th>\n",
       "      <th>Lng</th>\n",
       "      <th>Hotel Name</th>\n",
       "    </tr>\n",
       "  </thead>\n",
       "  <tbody>\n",
       "    <tr>\n",
       "      <th>69</th>\n",
       "      <td>213</td>\n",
       "      <td>Washington</td>\n",
       "      <td>US</td>\n",
       "      <td>87.01</td>\n",
       "      <td>clear sky</td>\n",
       "      <td>47.50</td>\n",
       "      <td>-120.50</td>\n",
       "      <td>Cashmere Cider Mill Guest Suites, Weddings &amp; T...</td>\n",
       "    </tr>\n",
       "    <tr>\n",
       "      <th>7</th>\n",
       "      <td>36</td>\n",
       "      <td>Portland</td>\n",
       "      <td>US</td>\n",
       "      <td>84.00</td>\n",
       "      <td>few clouds</td>\n",
       "      <td>45.52</td>\n",
       "      <td>-122.68</td>\n",
       "      <td>Portland Marriott City Center</td>\n",
       "    </tr>\n",
       "    <tr>\n",
       "      <th>97</th>\n",
       "      <td>290</td>\n",
       "      <td>Austin</td>\n",
       "      <td>US</td>\n",
       "      <td>93.20</td>\n",
       "      <td>few clouds</td>\n",
       "      <td>30.27</td>\n",
       "      <td>-97.74</td>\n",
       "      <td>The Driskill - In the Unbound Collection by Hyatt</td>\n",
       "    </tr>\n",
       "    <tr>\n",
       "      <th>33</th>\n",
       "      <td>105</td>\n",
       "      <td>Mayo</td>\n",
       "      <td>US</td>\n",
       "      <td>82.40</td>\n",
       "      <td>clear sky</td>\n",
       "      <td>38.89</td>\n",
       "      <td>-76.51</td>\n",
       "      <td>Resorts Resource Group International</td>\n",
       "    </tr>\n",
       "  </tbody>\n",
       "</table>\n",
       "</div>"
      ],
      "text/plain": [
       "    hotel        City Country  Max Temp Current Description    Lat     Lng  \\\n",
       "69    213  Washington      US     87.01           clear sky  47.50 -120.50   \n",
       "7      36    Portland      US     84.00          few clouds  45.52 -122.68   \n",
       "97    290      Austin      US     93.20          few clouds  30.27  -97.74   \n",
       "33    105        Mayo      US     82.40           clear sky  38.89  -76.51   \n",
       "\n",
       "                                           Hotel Name  \n",
       "69  Cashmere Cider Mill Guest Suites, Weddings & T...  \n",
       "7                       Portland Marriott City Center  \n",
       "97  The Driskill - In the Unbound Collection by Hyatt  \n",
       "33               Resorts Resource Group International  "
      ]
     },
     "execution_count": 9,
     "metadata": {},
     "output_type": "execute_result"
    }
   ],
   "source": [
    "#Combine four cities dataframe\n",
    "four_cities=pd.concat([Washington_df, Portland_df, Austin_df, Mayo_df])\n",
    "four_cities"
   ]
  },
  {
   "cell_type": "code",
   "execution_count": 12,
   "metadata": {},
   "outputs": [],
   "source": [
    "info_box_template = \"\"\"\n",
    "<dl>\n",
    "<dt>Hotel Name</dt><dd>{Hotel Name}</dd>\n",
    "<dt>City</dt><dd>{City}</dd>\n",
    "<dt>Country</dt><dd>{Country}</dd>\n",
    "<dt>Current Description</dt><dd>{Current Description}</dd>\n",
    "<dt>Max Temp</dt><dd>{Max Temp} °F</dd>\n",
    "</dl>\n",
    "\"\"\"    \n",
    "# Store the DataFrame Row.\n",
    "hotel_info = [info_box_template.format(**row) for index, row in four_cities.iterrows()]"
   ]
  },
  {
   "cell_type": "code",
   "execution_count": 15,
   "metadata": {},
   "outputs": [
    {
     "data": {
      "application/vnd.jupyter.widget-view+json": {
       "model_id": "6573bade7d2c498f8ee1b982a06e971b",
       "version_major": 2,
       "version_minor": 0
      },
      "text/plain": [
       "Figure(layout=FigureLayout(height='420px'))"
      ]
     },
     "metadata": {},
     "output_type": "display_data"
    }
   ],
   "source": [
    "# Add a heatmap of temperature for the vacation spots.\n",
    "locations = four_cities[[\"Lat\", \"Lng\"]]\n",
    "\n",
    "fig = gmaps.figure(center=(30.0, 31.0), zoom_level=1.5)\n",
    "marker_layer = gmaps.marker_layer(locations, info_box_content=hotel_info)\n",
    "\n",
    "fig.add_layer(marker_layer)\n",
    "# Call the figure to plot the data.\n",
    "fig\n"
   ]
  }
 ],
 "metadata": {
  "kernelspec": {
   "display_name": "PythonData",
   "language": "python",
   "name": "pythondata"
  },
  "language_info": {
   "codemirror_mode": {
    "name": "ipython",
    "version": 3
   },
   "file_extension": ".py",
   "mimetype": "text/x-python",
   "name": "python",
   "nbconvert_exporter": "python",
   "pygments_lexer": "ipython3",
   "version": "3.7.6"
  }
 },
 "nbformat": 4,
 "nbformat_minor": 4
}
